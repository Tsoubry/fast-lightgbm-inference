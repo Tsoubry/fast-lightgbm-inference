{
 "cells": [
  {
   "cell_type": "code",
   "execution_count": 1,
   "metadata": {},
   "outputs": [],
   "source": [
    "import pandas as pd\n",
    "import numpy as np\n",
    "import lightgbm as lgb\n",
    "from scipy.io.arff import loadarff \n",
    "from sklearn.model_selection import train_test_split\n",
    "from sklearn.pipeline import Pipeline\n",
    "from odt import ODTTransformer, ODTManager, PipeConfig"
   ]
  },
  {
   "cell_type": "code",
   "execution_count": 2,
   "metadata": {},
   "outputs": [],
   "source": [
    "raw_data = loadarff('dataset_13_breast-cancer.arff')\n",
    "df = pd.DataFrame(raw_data[0])\n",
    "for c in list(df.columns):\n",
    "    df[c] = df[c].str.decode('utf-8')"
   ]
  },
  {
   "cell_type": "code",
   "execution_count": 3,
   "metadata": {},
   "outputs": [],
   "source": [
    "df['Class'] = df['Class'].map({'recurrence-events': 1, 'no-recurrence-events': 0})"
   ]
  },
  {
   "cell_type": "code",
   "execution_count": 4,
   "metadata": {},
   "outputs": [],
   "source": [
    "x, y = df[['age', 'menopause', 'tumor-size', 'inv-nodes', 'node-caps', 'deg-malig',\n",
    "       'breast', 'breast-quad', 'irradiat']], df['Class']"
   ]
  },
  {
   "cell_type": "code",
   "execution_count": 5,
   "metadata": {},
   "outputs": [],
   "source": [
    "pipe = Pipeline(\n",
    "    steps=[\n",
    "        (\"odt_transformer\", ODTTransformer())\n",
    "    ]\n",
    ")"
   ]
  },
  {
   "cell_type": "code",
   "execution_count": 6,
   "metadata": {},
   "outputs": [],
   "source": [
    "transformed_x = pipe.fit_transform(x)"
   ]
  },
  {
   "cell_type": "code",
   "execution_count": 7,
   "metadata": {},
   "outputs": [],
   "source": [
    "x_train, x_test, y_train, y_test = train_test_split(transformed_x, y, test_size=0.15) "
   ]
  },
  {
   "cell_type": "code",
   "execution_count": 8,
   "metadata": {},
   "outputs": [],
   "source": [
    "lgb_train = lgb.Dataset(x_train, y_train)\n",
    "lgb_eval = lgb.Dataset(x_test, y_test, reference=lgb_train)"
   ]
  },
  {
   "cell_type": "code",
   "execution_count": 9,
   "metadata": {},
   "outputs": [
    {
     "name": "stdout",
     "output_type": "stream",
     "text": [
      "[LightGBM] [Warning] Unknown parameter: learnnig_rage\n",
      "[1]\tvalid_0's l2: 0.248077\tvalid_0's l1: 0.448401\n",
      "Training until validation scores don't improve for 30 rounds\n",
      "[2]\tvalid_0's l2: 0.243341\tvalid_0's l1: 0.443861\n",
      "[3]\tvalid_0's l2: 0.242902\tvalid_0's l1: 0.441093\n",
      "[4]\tvalid_0's l2: 0.241352\tvalid_0's l1: 0.437176\n",
      "[5]\tvalid_0's l2: 0.239036\tvalid_0's l1: 0.433042\n",
      "[6]\tvalid_0's l2: 0.237979\tvalid_0's l1: 0.430772\n",
      "[7]\tvalid_0's l2: 0.239283\tvalid_0's l1: 0.429943\n",
      "[8]\tvalid_0's l2: 0.239732\tvalid_0's l1: 0.428889\n",
      "[9]\tvalid_0's l2: 0.24084\tvalid_0's l1: 0.428464\n",
      "[10]\tvalid_0's l2: 0.2421\tvalid_0's l1: 0.427171\n",
      "[11]\tvalid_0's l2: 0.243359\tvalid_0's l1: 0.426844\n",
      "[12]\tvalid_0's l2: 0.243381\tvalid_0's l1: 0.424934\n",
      "[13]\tvalid_0's l2: 0.244205\tvalid_0's l1: 0.425054\n",
      "[14]\tvalid_0's l2: 0.245456\tvalid_0's l1: 0.424685\n",
      "[15]\tvalid_0's l2: 0.24428\tvalid_0's l1: 0.422685\n",
      "[16]\tvalid_0's l2: 0.243333\tvalid_0's l1: 0.420997\n",
      "[17]\tvalid_0's l2: 0.243303\tvalid_0's l1: 0.420863\n",
      "[18]\tvalid_0's l2: 0.243538\tvalid_0's l1: 0.41954\n",
      "[19]\tvalid_0's l2: 0.243614\tvalid_0's l1: 0.419743\n",
      "[20]\tvalid_0's l2: 0.242379\tvalid_0's l1: 0.417523\n",
      "[21]\tvalid_0's l2: 0.243521\tvalid_0's l1: 0.417769\n",
      "[22]\tvalid_0's l2: 0.242956\tvalid_0's l1: 0.417364\n",
      "[23]\tvalid_0's l2: 0.243344\tvalid_0's l1: 0.416878\n",
      "[24]\tvalid_0's l2: 0.243789\tvalid_0's l1: 0.416237\n",
      "[25]\tvalid_0's l2: 0.241934\tvalid_0's l1: 0.414617\n",
      "[26]\tvalid_0's l2: 0.241774\tvalid_0's l1: 0.414444\n",
      "[27]\tvalid_0's l2: 0.24357\tvalid_0's l1: 0.415876\n",
      "[28]\tvalid_0's l2: 0.244181\tvalid_0's l1: 0.415563\n",
      "[29]\tvalid_0's l2: 0.245525\tvalid_0's l1: 0.416834\n",
      "[30]\tvalid_0's l2: 0.246448\tvalid_0's l1: 0.417259\n",
      "[31]\tvalid_0's l2: 0.247586\tvalid_0's l1: 0.417768\n",
      "[32]\tvalid_0's l2: 0.244976\tvalid_0's l1: 0.415064\n",
      "[33]\tvalid_0's l2: 0.245989\tvalid_0's l1: 0.416288\n",
      "[34]\tvalid_0's l2: 0.243456\tvalid_0's l1: 0.413846\n",
      "[35]\tvalid_0's l2: 0.244633\tvalid_0's l1: 0.414938\n",
      "[36]\tvalid_0's l2: 0.242899\tvalid_0's l1: 0.412973\n",
      "Early stopping, best iteration is:\n",
      "[6]\tvalid_0's l2: 0.237979\tvalid_0's l1: 0.430772\n"
     ]
    },
    {
     "name": "stderr",
     "output_type": "stream",
     "text": [
      "/home/tanguy/.cache/pypoetry/virtualenvs/training-YKlqQPu6-py3.9/lib/python3.9/site-packages/lightgbm/engine.py:181: UserWarning: 'early_stopping_rounds' argument is deprecated and will be removed in a future release of LightGBM. Pass 'early_stopping()' callback via 'callbacks' argument instead.\n",
      "  _log_warning(\"'early_stopping_rounds' argument is deprecated and will be removed in a future release of LightGBM. \"\n"
     ]
    }
   ],
   "source": [
    "params = {\n",
    "    'task': 'train', \n",
    "    'boosting': 'gbdt',\n",
    "    'objective': 'binary',\n",
    "    'num_leaves': 10,\n",
    "    'learnnig_rage': 0.05,\n",
    "    'metric': {'l2','l1'},\n",
    "    'verbose': -1\n",
    "}\n",
    "\n",
    "model = lgb.train(params,\n",
    "                 train_set=lgb_train,\n",
    "                 valid_sets=lgb_eval,\n",
    "                 early_stopping_rounds=30)"
   ]
  },
  {
   "cell_type": "code",
   "execution_count": 10,
   "metadata": {},
   "outputs": [
    {
     "data": {
      "text/plain": [
       "<lightgbm.basic.Booster at 0x7fa83595bc10>"
      ]
     },
     "execution_count": 10,
     "metadata": {},
     "output_type": "execute_result"
    }
   ],
   "source": [
    "model.save_model(\"example_lgbm_model.txt\")"
   ]
  },
  {
   "cell_type": "code",
   "execution_count": 11,
   "metadata": {},
   "outputs": [],
   "source": [
    "odt_transformer = pipe.steps[0][1]"
   ]
  },
  {
   "cell_type": "code",
   "execution_count": 12,
   "metadata": {},
   "outputs": [
    {
     "data": {
      "text/plain": [
       "PipeConfig(features=[Feature(name='age', datatype=<DataType.Object: 'Object'>, nullable=True), Feature(name='breast', datatype=<DataType.Object: 'Object'>, nullable=True), Feature(name='breast-quad', datatype=<DataType.Object: 'Object'>, nullable=True), Feature(name='deg-malig', datatype=<DataType.Object: 'Object'>, nullable=True), Feature(name='inv-nodes', datatype=<DataType.Object: 'Object'>, nullable=True), Feature(name='irradiat', datatype=<DataType.Object: 'Object'>, nullable=True), Feature(name='menopause', datatype=<DataType.Object: 'Object'>, nullable=True), Feature(name='node-caps', datatype=<DataType.Object: 'Object'>, nullable=True), Feature(name='tumor-size', datatype=<DataType.Object: 'Object'>, nullable=True)])"
      ]
     },
     "execution_count": 12,
     "metadata": {},
     "output_type": "execute_result"
    }
   ],
   "source": [
    "odt_transformer.config"
   ]
  },
  {
   "cell_type": "code",
   "execution_count": 13,
   "metadata": {},
   "outputs": [],
   "source": [
    "# TODO: fix update config (json doesn't work)"
   ]
  },
  {
   "cell_type": "code",
   "execution_count": 14,
   "metadata": {},
   "outputs": [],
   "source": [
    "manager = ODTManager('http://localhost:8080')"
   ]
  },
  {
   "cell_type": "code",
   "execution_count": 15,
   "metadata": {},
   "outputs": [
    {
     "name": "stdout",
     "output_type": "stream",
     "text": [
      "Updating model succeeded!\n"
     ]
    }
   ],
   "source": [
    "manager.update_model(model)"
   ]
  },
  {
   "cell_type": "code",
   "execution_count": 16,
   "metadata": {},
   "outputs": [
    {
     "name": "stdout",
     "output_type": "stream",
     "text": [
      "Updating config succeeded!\n"
     ]
    }
   ],
   "source": [
    "manager.update_config(odt_transformer.config)"
   ]
  },
  {
   "cell_type": "code",
   "execution_count": 17,
   "metadata": {},
   "outputs": [
    {
     "data": {
      "text/plain": [
       "{'prediction': [0.5050860155731521]}"
      ]
     },
     "execution_count": 17,
     "metadata": {},
     "output_type": "execute_result"
    }
   ],
   "source": [
    "import json\n",
    "input_str = '{\"age\":\"40-49\",\"menopause\":\"premeno\",\"tumor-size\":\"15-19\",\"inv-nodes\":\"0-2\",\"node-caps\":\"yes\",\"deg-malig\":\"3\",\"breast\":\"right\",\"breast-quad\":\"left_up\",\"irradiat\":\"no\"}'\n",
    "\n",
    "manager.get_prediction(\n",
    "    data=json.loads(input_str)\n",
    ")"
   ]
  },
  {
   "cell_type": "code",
   "execution_count": null,
   "metadata": {},
   "outputs": [],
   "source": []
  }
 ],
 "metadata": {
  "kernelspec": {
   "display_name": "Python 3.9.7 ('training-YKlqQPu6-py3.9')",
   "language": "python",
   "name": "python3"
  },
  "language_info": {
   "codemirror_mode": {
    "name": "ipython",
    "version": 3
   },
   "file_extension": ".py",
   "mimetype": "text/x-python",
   "name": "python",
   "nbconvert_exporter": "python",
   "pygments_lexer": "ipython3",
   "version": "3.9.14"
  },
  "orig_nbformat": 4,
  "vscode": {
   "interpreter": {
    "hash": "010d3275fff6f2e54ec45f8e20055640b3037f78b8d432fd3754a47cb50ad2f7"
   }
  }
 },
 "nbformat": 4,
 "nbformat_minor": 2
}
